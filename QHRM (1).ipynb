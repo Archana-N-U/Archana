{
 "cells": [
  {
   "cell_type": "code",
   "execution_count": 1,
   "metadata": {},
   "outputs": [],
   "source": [
    "import pandas as pd\n",
    "import numpy as np\n",
    "import seaborn as sns\n",
    "import matplotlib.pyplot as plt\n",
    "%matplotlib inline"
   ]
  },
  {
   "cell_type": "code",
   "execution_count": 2,
   "metadata": {},
   "outputs": [],
   "source": [
    "df = pd.read_csv(\"E:/MBA docs/HR Project1.csv\")"
   ]
  },
  {
   "cell_type": "code",
   "execution_count": 3,
   "metadata": {},
   "outputs": [
    {
     "data": {
      "text/html": [
       "<div>\n",
       "<style scoped>\n",
       "    .dataframe tbody tr th:only-of-type {\n",
       "        vertical-align: middle;\n",
       "    }\n",
       "\n",
       "    .dataframe tbody tr th {\n",
       "        vertical-align: top;\n",
       "    }\n",
       "\n",
       "    .dataframe thead th {\n",
       "        text-align: right;\n",
       "    }\n",
       "</style>\n",
       "<table border=\"1\" class=\"dataframe\">\n",
       "  <thead>\n",
       "    <tr style=\"text-align: right;\">\n",
       "      <th></th>\n",
       "      <th>Timestamp</th>\n",
       "      <th>1.\\tName</th>\n",
       "      <th>2.\\tEmployee Id</th>\n",
       "      <th>3. Age</th>\n",
       "      <th>4.\\tGender</th>\n",
       "      <th>5.\\tMarital status</th>\n",
       "      <th>6.\\tType of employment</th>\n",
       "      <th>7.\\tExperience (in years)</th>\n",
       "      <th>8.\\tSalary per month (in thousands)</th>\n",
       "      <th>9.\\tPosition</th>\n",
       "      <th>10.\\tDepartment</th>\n",
       "      <th>11.\\tHow satisfied are you with the appraisal system of your organization?</th>\n",
       "      <th>12.\\tDo you have any plans to change the organization if the appraisal is not satisfactory?</th>\n",
       "      <th>13.\\tIs the pay raise after the appraisal is satisfactory?</th>\n",
       "      <th>14. What is the pay raise after the performance appraisal?</th>\n",
       "    </tr>\n",
       "  </thead>\n",
       "  <tbody>\n",
       "    <tr>\n",
       "      <th>0</th>\n",
       "      <td>12-21-2020 12:05:56</td>\n",
       "      <td>Ankita</td>\n",
       "      <td>NaN</td>\n",
       "      <td>18-25</td>\n",
       "      <td>Female</td>\n",
       "      <td>Single</td>\n",
       "      <td>Permanent employee</td>\n",
       "      <td>1-2</td>\n",
       "      <td>20 - 30</td>\n",
       "      <td>L2</td>\n",
       "      <td>It</td>\n",
       "      <td>4</td>\n",
       "      <td>Yes</td>\n",
       "      <td>Yes</td>\n",
       "      <td>5%-10%</td>\n",
       "    </tr>\n",
       "    <tr>\n",
       "      <th>1</th>\n",
       "      <td>12-21-2020 12:26:52</td>\n",
       "      <td>Devavrat Panval</td>\n",
       "      <td>NaN</td>\n",
       "      <td>18-25</td>\n",
       "      <td>Male</td>\n",
       "      <td>Single</td>\n",
       "      <td>Permanent employee</td>\n",
       "      <td>2-3</td>\n",
       "      <td>40 and above</td>\n",
       "      <td>L2</td>\n",
       "      <td>It</td>\n",
       "      <td>3</td>\n",
       "      <td>Yes</td>\n",
       "      <td>Yes</td>\n",
       "      <td>Greater than 10%</td>\n",
       "    </tr>\n",
       "    <tr>\n",
       "      <th>2</th>\n",
       "      <td>12-21-2020 12:47:50</td>\n",
       "      <td>Chaithra</td>\n",
       "      <td>NaN</td>\n",
       "      <td>18-25</td>\n",
       "      <td>Female</td>\n",
       "      <td>Single</td>\n",
       "      <td>Permanent employee</td>\n",
       "      <td>2-3</td>\n",
       "      <td>20 - 30</td>\n",
       "      <td>L2</td>\n",
       "      <td>It</td>\n",
       "      <td>3</td>\n",
       "      <td>Yes</td>\n",
       "      <td>No</td>\n",
       "      <td>Less than 5%</td>\n",
       "    </tr>\n",
       "    <tr>\n",
       "      <th>3</th>\n",
       "      <td>12-21-2020 13:07:54</td>\n",
       "      <td>Harpreet arora</td>\n",
       "      <td>NaN</td>\n",
       "      <td>18-25</td>\n",
       "      <td>Female</td>\n",
       "      <td>Single</td>\n",
       "      <td>Permanent employee</td>\n",
       "      <td>2-3</td>\n",
       "      <td>20 - 30</td>\n",
       "      <td>L2</td>\n",
       "      <td>It</td>\n",
       "      <td>1</td>\n",
       "      <td>Yes</td>\n",
       "      <td>No</td>\n",
       "      <td>Less than 5%</td>\n",
       "    </tr>\n",
       "    <tr>\n",
       "      <th>4</th>\n",
       "      <td>12-21-2020 14:03:58</td>\n",
       "      <td>Sushmitha</td>\n",
       "      <td>NaN</td>\n",
       "      <td>18-25</td>\n",
       "      <td>Female</td>\n",
       "      <td>Single</td>\n",
       "      <td>Permanent employee</td>\n",
       "      <td>4-5</td>\n",
       "      <td>Below 20</td>\n",
       "      <td>L1</td>\n",
       "      <td>Others</td>\n",
       "      <td>1</td>\n",
       "      <td>Yes</td>\n",
       "      <td>No</td>\n",
       "      <td>Less than 5%</td>\n",
       "    </tr>\n",
       "  </tbody>\n",
       "</table>\n",
       "</div>"
      ],
      "text/plain": [
       "             Timestamp         1.\\tName  2.\\tEmployee Id 3. Age 4.\\tGender  \\\n",
       "0  12-21-2020 12:05:56           Ankita              NaN  18-25     Female   \n",
       "1  12-21-2020 12:26:52  Devavrat Panval              NaN  18-25       Male   \n",
       "2  12-21-2020 12:47:50         Chaithra              NaN  18-25     Female   \n",
       "3  12-21-2020 13:07:54  Harpreet arora               NaN  18-25     Female   \n",
       "4  12-21-2020 14:03:58       Sushmitha               NaN  18-25     Female   \n",
       "\n",
       "  5.\\tMarital status 6.\\tType of employment 7.\\tExperience (in years)  \\\n",
       "0             Single     Permanent employee                       1-2   \n",
       "1             Single     Permanent employee                       2-3   \n",
       "2             Single     Permanent employee                       2-3   \n",
       "3             Single     Permanent employee                       2-3   \n",
       "4             Single     Permanent employee                       4-5   \n",
       "\n",
       "  8.\\tSalary per month (in thousands) 9.\\tPosition 10.\\tDepartment   \\\n",
       "0                             20 - 30           L2               It   \n",
       "1                        40 and above           L2               It   \n",
       "2                             20 - 30           L2               It   \n",
       "3                             20 - 30           L2               It   \n",
       "4                            Below 20           L1           Others   \n",
       "\n",
       "   11.\\tHow satisfied are you with the appraisal system of your organization?  \\\n",
       "0                                                  4                            \n",
       "1                                                  3                            \n",
       "2                                                  3                            \n",
       "3                                                  1                            \n",
       "4                                                  1                            \n",
       "\n",
       "  12.\\tDo you have any plans to change the organization if the appraisal is not satisfactory?  \\\n",
       "0                                                Yes                                            \n",
       "1                                                Yes                                            \n",
       "2                                                Yes                                            \n",
       "3                                                Yes                                            \n",
       "4                                                Yes                                            \n",
       "\n",
       "  13.\\tIs the pay raise after the appraisal is satisfactory?  \\\n",
       "0                                                Yes           \n",
       "1                                                Yes           \n",
       "2                                                 No           \n",
       "3                                                 No           \n",
       "4                                                 No           \n",
       "\n",
       "  14. What is the pay raise after the performance appraisal?  \n",
       "0                                             5%-10%          \n",
       "1                                   Greater than 10%          \n",
       "2                                       Less than 5%          \n",
       "3                                       Less than 5%          \n",
       "4                                       Less than 5%          "
      ]
     },
     "execution_count": 3,
     "metadata": {},
     "output_type": "execute_result"
    }
   ],
   "source": [
    "df.head()"
   ]
  },
  {
   "cell_type": "code",
   "execution_count": 4,
   "metadata": {},
   "outputs": [],
   "source": [
    "df[\"13.\\tIs the pay raise after the appraisal is satisfactory?\"] = [0 if i== \"Yes\" else 1 for i in df[\"13.\\tIs the pay raise after the appraisal is satisfactory?\"]]"
   ]
  },
  {
   "cell_type": "code",
   "execution_count": 5,
   "metadata": {},
   "outputs": [],
   "source": [
    "df[\"12.\\tDo you have any plans to change the organization if the appraisal is not satisfactory?\"] = [0 if i== \"Yes\" else 1 for i in df[\"12.\\tDo you have any plans to change the organization if the appraisal is not satisfactory?\"]]"
   ]
  },
  {
   "cell_type": "code",
   "execution_count": 6,
   "metadata": {},
   "outputs": [],
   "source": [
    "def fun(num):\n",
    "    if num[\"14. What is the pay raise after the performance appraisal?\"]==\"5%-10%\" :\n",
    "        return \"10\"\n",
    "    elif num[\"14. What is the pay raise after the performance appraisal?\"]==\"Greater than 10%\" :\n",
    "        return \"15\"\n",
    "    else:\n",
    "        return \"5\"\n",
    "df[\"14. What is the pay raise after the performance appraisal?\"] = df.apply(fun, axis=1)"
   ]
  },
  {
   "cell_type": "code",
   "execution_count": 7,
   "metadata": {},
   "outputs": [],
   "source": [
    "def fun(num):\n",
    "    if num[\"6.\\tType of employment\"]==\"Permanent employee\" :\n",
    "        return \"1\"\n",
    "    elif num[\"6.\\tType of employment\"]==\"Contract employee\" :\n",
    "        return \"0\"\n",
    "    else:\n",
    "        return \"2\"\n",
    "df[\"6.\\tType of employment\"] = df.apply(fun, axis=1)"
   ]
  },
  {
   "cell_type": "code",
   "execution_count": 8,
   "metadata": {},
   "outputs": [
    {
     "data": {
      "text/html": [
       "<div>\n",
       "<style scoped>\n",
       "    .dataframe tbody tr th:only-of-type {\n",
       "        vertical-align: middle;\n",
       "    }\n",
       "\n",
       "    .dataframe tbody tr th {\n",
       "        vertical-align: top;\n",
       "    }\n",
       "\n",
       "    .dataframe thead th {\n",
       "        text-align: right;\n",
       "    }\n",
       "</style>\n",
       "<table border=\"1\" class=\"dataframe\">\n",
       "  <thead>\n",
       "    <tr style=\"text-align: right;\">\n",
       "      <th></th>\n",
       "      <th>Timestamp</th>\n",
       "      <th>1.\\tName</th>\n",
       "      <th>2.\\tEmployee Id</th>\n",
       "      <th>3. Age</th>\n",
       "      <th>4.\\tGender</th>\n",
       "      <th>5.\\tMarital status</th>\n",
       "      <th>6.\\tType of employment</th>\n",
       "      <th>7.\\tExperience (in years)</th>\n",
       "      <th>8.\\tSalary per month (in thousands)</th>\n",
       "      <th>9.\\tPosition</th>\n",
       "      <th>10.\\tDepartment</th>\n",
       "      <th>11.\\tHow satisfied are you with the appraisal system of your organization?</th>\n",
       "      <th>12.\\tDo you have any plans to change the organization if the appraisal is not satisfactory?</th>\n",
       "      <th>13.\\tIs the pay raise after the appraisal is satisfactory?</th>\n",
       "      <th>14. What is the pay raise after the performance appraisal?</th>\n",
       "    </tr>\n",
       "  </thead>\n",
       "  <tbody>\n",
       "    <tr>\n",
       "      <th>0</th>\n",
       "      <td>12-21-2020 12:05:56</td>\n",
       "      <td>Ankita</td>\n",
       "      <td>NaN</td>\n",
       "      <td>18-25</td>\n",
       "      <td>Female</td>\n",
       "      <td>Single</td>\n",
       "      <td>1</td>\n",
       "      <td>1-2</td>\n",
       "      <td>20 - 30</td>\n",
       "      <td>L2</td>\n",
       "      <td>It</td>\n",
       "      <td>4</td>\n",
       "      <td>0</td>\n",
       "      <td>0</td>\n",
       "      <td>10</td>\n",
       "    </tr>\n",
       "    <tr>\n",
       "      <th>1</th>\n",
       "      <td>12-21-2020 12:26:52</td>\n",
       "      <td>Devavrat Panval</td>\n",
       "      <td>NaN</td>\n",
       "      <td>18-25</td>\n",
       "      <td>Male</td>\n",
       "      <td>Single</td>\n",
       "      <td>1</td>\n",
       "      <td>2-3</td>\n",
       "      <td>40 and above</td>\n",
       "      <td>L2</td>\n",
       "      <td>It</td>\n",
       "      <td>3</td>\n",
       "      <td>0</td>\n",
       "      <td>0</td>\n",
       "      <td>15</td>\n",
       "    </tr>\n",
       "    <tr>\n",
       "      <th>2</th>\n",
       "      <td>12-21-2020 12:47:50</td>\n",
       "      <td>Chaithra</td>\n",
       "      <td>NaN</td>\n",
       "      <td>18-25</td>\n",
       "      <td>Female</td>\n",
       "      <td>Single</td>\n",
       "      <td>1</td>\n",
       "      <td>2-3</td>\n",
       "      <td>20 - 30</td>\n",
       "      <td>L2</td>\n",
       "      <td>It</td>\n",
       "      <td>3</td>\n",
       "      <td>0</td>\n",
       "      <td>1</td>\n",
       "      <td>5</td>\n",
       "    </tr>\n",
       "    <tr>\n",
       "      <th>3</th>\n",
       "      <td>12-21-2020 13:07:54</td>\n",
       "      <td>Harpreet arora</td>\n",
       "      <td>NaN</td>\n",
       "      <td>18-25</td>\n",
       "      <td>Female</td>\n",
       "      <td>Single</td>\n",
       "      <td>1</td>\n",
       "      <td>2-3</td>\n",
       "      <td>20 - 30</td>\n",
       "      <td>L2</td>\n",
       "      <td>It</td>\n",
       "      <td>1</td>\n",
       "      <td>0</td>\n",
       "      <td>1</td>\n",
       "      <td>5</td>\n",
       "    </tr>\n",
       "    <tr>\n",
       "      <th>4</th>\n",
       "      <td>12-21-2020 14:03:58</td>\n",
       "      <td>Sushmitha</td>\n",
       "      <td>NaN</td>\n",
       "      <td>18-25</td>\n",
       "      <td>Female</td>\n",
       "      <td>Single</td>\n",
       "      <td>1</td>\n",
       "      <td>4-5</td>\n",
       "      <td>Below 20</td>\n",
       "      <td>L1</td>\n",
       "      <td>Others</td>\n",
       "      <td>1</td>\n",
       "      <td>0</td>\n",
       "      <td>1</td>\n",
       "      <td>5</td>\n",
       "    </tr>\n",
       "  </tbody>\n",
       "</table>\n",
       "</div>"
      ],
      "text/plain": [
       "             Timestamp         1.\\tName  2.\\tEmployee Id 3. Age 4.\\tGender  \\\n",
       "0  12-21-2020 12:05:56           Ankita              NaN  18-25     Female   \n",
       "1  12-21-2020 12:26:52  Devavrat Panval              NaN  18-25       Male   \n",
       "2  12-21-2020 12:47:50         Chaithra              NaN  18-25     Female   \n",
       "3  12-21-2020 13:07:54  Harpreet arora               NaN  18-25     Female   \n",
       "4  12-21-2020 14:03:58       Sushmitha               NaN  18-25     Female   \n",
       "\n",
       "  5.\\tMarital status 6.\\tType of employment 7.\\tExperience (in years)  \\\n",
       "0             Single                      1                       1-2   \n",
       "1             Single                      1                       2-3   \n",
       "2             Single                      1                       2-3   \n",
       "3             Single                      1                       2-3   \n",
       "4             Single                      1                       4-5   \n",
       "\n",
       "  8.\\tSalary per month (in thousands) 9.\\tPosition 10.\\tDepartment   \\\n",
       "0                             20 - 30           L2               It   \n",
       "1                        40 and above           L2               It   \n",
       "2                             20 - 30           L2               It   \n",
       "3                             20 - 30           L2               It   \n",
       "4                            Below 20           L1           Others   \n",
       "\n",
       "   11.\\tHow satisfied are you with the appraisal system of your organization?  \\\n",
       "0                                                  4                            \n",
       "1                                                  3                            \n",
       "2                                                  3                            \n",
       "3                                                  1                            \n",
       "4                                                  1                            \n",
       "\n",
       "   12.\\tDo you have any plans to change the organization if the appraisal is not satisfactory?  \\\n",
       "0                                                  0                                             \n",
       "1                                                  0                                             \n",
       "2                                                  0                                             \n",
       "3                                                  0                                             \n",
       "4                                                  0                                             \n",
       "\n",
       "   13.\\tIs the pay raise after the appraisal is satisfactory?  \\\n",
       "0                                                  0            \n",
       "1                                                  0            \n",
       "2                                                  1            \n",
       "3                                                  1            \n",
       "4                                                  1            \n",
       "\n",
       "  14. What is the pay raise after the performance appraisal?  \n",
       "0                                                 10          \n",
       "1                                                 15          \n",
       "2                                                  5          \n",
       "3                                                  5          \n",
       "4                                                  5          "
      ]
     },
     "execution_count": 8,
     "metadata": {},
     "output_type": "execute_result"
    }
   ],
   "source": [
    "df.head()"
   ]
  },
  {
   "cell_type": "code",
   "execution_count": 9,
   "metadata": {},
   "outputs": [
    {
     "data": {
      "text/plain": [
       "([<matplotlib.patches.Wedge at 0x24c6e3703c8>,\n",
       "  <matplotlib.patches.Wedge at 0x24c6e37f3c8>,\n",
       "  <matplotlib.patches.Wedge at 0x24c6e3877c8>],\n",
       " [Text(1.6182957126653303, 0.32189903132661163, 'Temporary'),\n",
       "  Text(-1.642054799009125, 0.1617282815437754, 'Permanent'),\n",
       "  Text(1.5789515539581447, -0.47896971746986317, 'Contract')],\n",
       " [Text(0.8827067523629073, 0.1755812898145154, '6.25%'),\n",
       "  Text(-0.895666254004977, 0.08821542629660474, '84.38%'),\n",
       "  Text(0.8612463021589879, -0.26125620952901624, '9.38%')])"
      ]
     },
     "execution_count": 9,
     "metadata": {},
     "output_type": "execute_result"
    },
    {
     "data": {
      "image/png": "[encoded data removed]",
      "text/plain": [
       "<Figure size 432x288 with 1 Axes>"
      ]
     },
     "metadata": {},
     "output_type": "display_data"
    }
   ],
   "source": [
    "# Type of employment of the employees data collected\n",
    "plt.pie(df[\"6.\\tType of employment\"].groupby(df[\"6.\\tType of employment\"]).count(), labels = [\"Temporary\", \"Permanent\", \"Contract\"], radius = 1.5, autopct= \"%0.02f%%\", shadow=True)"
   ]
  },
  {
   "cell_type": "code",
   "execution_count": 10,
   "metadata": {},
   "outputs": [
    {
     "data": {
      "text/plain": [
       "<matplotlib.axes._subplots.AxesSubplot at 0x24c6e3ccd08>"
      ]
     },
     "execution_count": 10,
     "metadata": {},
     "output_type": "execute_result"
    },
    {
     "name": "stderr",
     "output_type": "stream",
     "text": [
      "C:\\Users\\archa\\Anaconda3\\lib\\site-packages\\matplotlib\\backends\\backend_agg.py:211: RuntimeWarning: Glyph 9 missing from current font.\n",
      "  font.set_text(s, 0.0, flags=flags)\n",
      "C:\\Users\\archa\\Anaconda3\\lib\\site-packages\\matplotlib\\backends\\backend_agg.py:180: RuntimeWarning: Glyph 9 missing from current font.\n",
      "  font.set_text(s, 0, flags=flags)\n"
     ]
    },
    {
     "data": {
      "image/png": "[encoded data removed]",
      "text/plain": [
       "<Figure size 432x288 with 1 Axes>"
      ]
     },
     "metadata": {
      "needs_background": "light"
     },
     "output_type": "display_data"
    }
   ],
   "source": [
    "# The satisfaction plot of the employees. the below graph shows how many employees rate 1 and how many rate 5, \n",
    "#or in other words how many people are satisfied and how many not\n",
    "sns.distplot(df[\"11.\\tHow satisfied are you with the appraisal system of your organization?\"], color=\"green\")"
   ]
  },
  {
   "cell_type": "code",
   "execution_count": 11,
   "metadata": {},
   "outputs": [
    {
     "data": {
      "text/plain": [
       "11.\\tHow satisfied are you with the appraisal system of your organization?\n",
       "1    2\n",
       "2    5\n",
       "3    9\n",
       "4    9\n",
       "5    7\n",
       "Name: 11.\\tHow satisfied are you with the appraisal system of your organization?, dtype: int64"
      ]
     },
     "execution_count": 11,
     "metadata": {},
     "output_type": "execute_result"
    }
   ],
   "source": [
    "# 1 rating the lowest and 5 the highest the below graph shows the number \n",
    "#of people who are satisfied with their appraisal system and who are not\n",
    "df[\"11.\\tHow satisfied are you with the appraisal system of your organization?\"].groupby(df[\"11.\\tHow satisfied are you with the appraisal system of your organization?\"]).count()"
   ]
  },
  {
   "cell_type": "code",
   "execution_count": 12,
   "metadata": {},
   "outputs": [
    {
     "data": {
      "text/plain": [
       "12.\\tDo you have any plans to change the organization if the appraisal is not satisfactory?\n",
       "0    25\n",
       "1     7\n",
       "Name: 12.\\tDo you have any plans to change the organization if the appraisal is not satisfactory?, dtype: int64"
      ]
     },
     "execution_count": 12,
     "metadata": {},
     "output_type": "execute_result"
    }
   ],
   "source": [
    "# Count of people who might change the organisation if the appriasal is not ssatisfactory\n",
    "df[\"12.\\tDo you have any plans to change the organization if the appraisal is not satisfactory?\"].groupby(df[\"12.\\tDo you have any plans to change the organization if the appraisal is not satisfactory?\"]).count()"
   ]
  },
  {
   "cell_type": "code",
   "execution_count": 13,
   "metadata": {},
   "outputs": [
    {
     "data": {
      "text/plain": [
       "([<matplotlib.patches.Wedge at 0x24c6e4bb948>,\n",
       "  <matplotlib.patches.Wedge at 0x24c6e4c19c8>],\n",
       " [Text(-1.275467248048516, 1.0467489188700152, 'YES'),\n",
       "  Text(1.2754672480485154, -1.0467489188700159, 'NO')],\n",
       " [Text(-0.6957094080264632, 0.5709539557472809, '78.12%'),\n",
       "  Text(0.6957094080264629, -0.5709539557472812, '21.88%')])"
      ]
     },
     "execution_count": 13,
     "metadata": {},
     "output_type": "execute_result"
    },
    {
     "data": {
      "image/png": "[encoded data removed]",
      "text/plain": [
       "<Figure size 432x288 with 1 Axes>"
      ]
     },
     "metadata": {},
     "output_type": "display_data"
    }
   ],
   "source": [
    "plt.pie(df[\"12.\\tDo you have any plans to change the organization if the appraisal is not satisfactory?\"].groupby(df[\"12.\\tDo you have any plans to change the organization if the appraisal is not satisfactory?\"]).count(), labels = [\"YES\", \"NO\"], radius = 1.5, autopct= \"%0.02f%%\", shadow=True)"
   ]
  },
  {
   "cell_type": "code",
   "execution_count": 14,
   "metadata": {},
   "outputs": [
    {
     "data": {
      "text/plain": [
       "<matplotlib.axes._subplots.AxesSubplot at 0x24c6e4dd648>"
      ]
     },
     "execution_count": 14,
     "metadata": {},
     "output_type": "execute_result"
    },
    {
     "data": {
      "image/png": "[encoded data removed]",
      "text/plain": [
       "<Figure size 432x288 with 1 Axes>"
      ]
     },
     "metadata": {
      "needs_background": "light"
     },
     "output_type": "display_data"
    }
   ],
   "source": [
    "sns.countplot(df[\"11.\\tHow satisfied are you with the appraisal system of your organization?\"])"
   ]
  },
  {
   "cell_type": "code",
   "execution_count": 20,
   "metadata": {},
   "outputs": [],
   "source": [
    "\n",
    "def fun(num):\n",
    "    if num[\"7.\\tExperience (in years)\"]==\"1-2\" :\n",
    "        return \"2\"\n",
    "    elif num[\"7.\\tExperience (in years)\"]==\"2-3\" :\n",
    "        return \"3\"\n",
    "    elif num[\"7.\\tExperience (in years)\"]==\"4-5\" :\n",
    "        return \"5\"\n",
    "    else:\n",
    "        return \"10\"\n",
    "df[\"Experience dummy\"] = df.apply(fun, axis=1)"
   ]
  },
  {
   "cell_type": "code",
   "execution_count": 23,
   "metadata": {},
   "outputs": [
    {
     "data": {
      "image/png": "[encoded data removed]",
      "text/plain": [
       "<Figure size 432x288 with 1 Axes>"
      ]
     },
     "metadata": {
      "needs_background": "light"
     },
     "output_type": "display_data"
    }
   ],
   "source": [
    "plt.scatter( x = df[\"7.\\tExperience (in years)\"], y = df[\"14. What is the pay raise after the performance appraisal?\"])\n",
    "plt.xlabel(\"Experience in years\")\n",
    "plt.ylabel(\"Pay rise\")\n",
    "plt.title(\"Experience vs pay rise after appraisal\")\n",
    "plt.show()\n",
    "            "
   ]
  },
  {
   "cell_type": "code",
   "execution_count": 24,
   "metadata": {},
   "outputs": [
    {
     "data": {
      "text/html": [
       "<div>\n",
       "<style scoped>\n",
       "    .dataframe tbody tr th:only-of-type {\n",
       "        vertical-align: middle;\n",
       "    }\n",
       "\n",
       "    .dataframe tbody tr th {\n",
       "        vertical-align: top;\n",
       "    }\n",
       "\n",
       "    .dataframe thead th {\n",
       "        text-align: right;\n",
       "    }\n",
       "</style>\n",
       "<table border=\"1\" class=\"dataframe\">\n",
       "  <thead>\n",
       "    <tr style=\"text-align: right;\">\n",
       "      <th></th>\n",
       "      <th>2.\\tEmployee Id</th>\n",
       "      <th>11.\\tHow satisfied are you with the appraisal system of your organization?</th>\n",
       "      <th>12.\\tDo you have any plans to change the organization if the appraisal is not satisfactory?</th>\n",
       "      <th>13.\\tIs the pay raise after the appraisal is satisfactory?</th>\n",
       "    </tr>\n",
       "  </thead>\n",
       "  <tbody>\n",
       "    <tr>\n",
       "      <th>2.\\tEmployee Id</th>\n",
       "      <td>1.000000</td>\n",
       "      <td>-0.192215</td>\n",
       "      <td>-0.254897</td>\n",
       "      <td>-0.416261</td>\n",
       "    </tr>\n",
       "    <tr>\n",
       "      <th>11.\\tHow satisfied are you with the appraisal system of your organization?</th>\n",
       "      <td>-0.192215</td>\n",
       "      <td>1.000000</td>\n",
       "      <td>0.447868</td>\n",
       "      <td>-0.706099</td>\n",
       "    </tr>\n",
       "    <tr>\n",
       "      <th>12.\\tDo you have any plans to change the organization if the appraisal is not satisfactory?</th>\n",
       "      <td>-0.254897</td>\n",
       "      <td>0.447868</td>\n",
       "      <td>1.000000</td>\n",
       "      <td>-0.161905</td>\n",
       "    </tr>\n",
       "    <tr>\n",
       "      <th>13.\\tIs the pay raise after the appraisal is satisfactory?</th>\n",
       "      <td>-0.416261</td>\n",
       "      <td>-0.706099</td>\n",
       "      <td>-0.161905</td>\n",
       "      <td>1.000000</td>\n",
       "    </tr>\n",
       "  </tbody>\n",
       "</table>\n",
       "</div>"
      ],
      "text/plain": [
       "                                                    2.\\tEmployee Id  \\\n",
       "2.\\tEmployee Id                                            1.000000   \n",
       "11.\\tHow satisfied are you with the appraisal s...        -0.192215   \n",
       "12.\\tDo you have any plans to change the organi...        -0.254897   \n",
       "13.\\tIs the pay raise after the appraisal is sa...        -0.416261   \n",
       "\n",
       "                                                    11.\\tHow satisfied are you with the appraisal system of your organization?  \\\n",
       "2.\\tEmployee Id                                                                             -0.192215                            \n",
       "11.\\tHow satisfied are you with the appraisal s...                                           1.000000                            \n",
       "12.\\tDo you have any plans to change the organi...                                           0.447868                            \n",
       "13.\\tIs the pay raise after the appraisal is sa...                                          -0.706099                            \n",
       "\n",
       "                                                    12.\\tDo you have any plans to change the organization if the appraisal is not satisfactory?  \\\n",
       "2.\\tEmployee Id                                                                             -0.254897                                             \n",
       "11.\\tHow satisfied are you with the appraisal s...                                           0.447868                                             \n",
       "12.\\tDo you have any plans to change the organi...                                           1.000000                                             \n",
       "13.\\tIs the pay raise after the appraisal is sa...                                          -0.161905                                             \n",
       "\n",
       "                                                    13.\\tIs the pay raise after the appraisal is satisfactory?  \n",
       "2.\\tEmployee Id                                                                             -0.416261           \n",
       "11.\\tHow satisfied are you with the appraisal s...                                          -0.706099           \n",
       "12.\\tDo you have any plans to change the organi...                                          -0.161905           \n",
       "13.\\tIs the pay raise after the appraisal is sa...                                           1.000000           "
      ]
     },
     "execution_count": 24,
     "metadata": {},
     "output_type": "execute_result"
    }
   ],
   "source": [
    "# correlation between the variables of the dataset\n",
    "df.corr()"
   ]
  },
  {
   "cell_type": "code",
   "execution_count": 25,
   "metadata": {},
   "outputs": [
    {
     "data": {
      "text/plain": [
       "<matplotlib.collections.PolyCollection at 0x24c6e81d6c8>"
      ]
     },
     "execution_count": 25,
     "metadata": {},
     "output_type": "execute_result"
    },
    {
     "data": {
      "image/png": "[encoded data removed]",
      "text/plain": [
       "<Figure size 432x288 with 1 Axes>"
      ]
     },
     "metadata": {
      "needs_background": "light"
     },
     "output_type": "display_data"
    }
   ],
   "source": [
    "plt.pcolor(df.corr())"
   ]
  },
  {
   "cell_type": "code",
   "execution_count": 27,
   "metadata": {},
   "outputs": [
    {
     "data": {
      "image/png": "[encoded data removed]",
      "text/plain": [
       "<Figure size 432x288 with 2 Axes>"
      ]
     },
     "metadata": {
      "needs_background": "light"
     },
     "output_type": "display_data"
    }
   ],
   "source": [
    "plt.pcolor(df.corr())\n",
    "plt.colorbar()\n",
    "plt.show()"
   ]
  },
  {
   "cell_type": "code",
   "execution_count": 30,
   "metadata": {},
   "outputs": [
    {
     "data": {
      "image/png": "[encoded data removed]",
      "text/plain": [
       "<Figure size 432x288 with 1 Axes>"
      ]
     },
     "metadata": {
      "needs_background": "light"
     },
     "output_type": "display_data"
    }
   ],
   "source": [
    "plt.scatter( x = df[\"9.\\tPosition\"], y = df[\"14. What is the pay raise after the performance appraisal?\"])\n",
    "plt.xlabel(\"Position\")\n",
    "plt.ylabel(\"Pay rise\")\n",
    "plt.title(\"position vs pay rise after appraisal\")\n",
    "plt.show()\n",
    "            "
   ]
  },
  {
   "cell_type": "code",
   "execution_count": null,
   "metadata": {},
   "outputs": [],
   "source": [
    "# the above graphs and analysis is done on the sample dataset. since there are no continuous variables, \n",
    "#I was not able to add any regression to the variables. From the sample data, we can say that employees \n",
    "#tend to leave the organisation if their work is not recognised and the appraisal system is not satisfactory."
   ]
  }
 ],
 "metadata": {
  "kernelspec": {
   "display_name": "Python 3",
   "language": "python",
   "name": "python3"
  },
  "language_info": {
   "codemirror_mode": {
    "name": "ipython",
    "version": 3
   },
   "file_extension": ".py",
   "mimetype": "text/x-python",
   "name": "python",
   "nbconvert_exporter": "python",
   "pygments_lexer": "ipython3",
   "version": "3.7.6"
  }
 },
 "nbformat": 4,
 "nbformat_minor": 4
}
